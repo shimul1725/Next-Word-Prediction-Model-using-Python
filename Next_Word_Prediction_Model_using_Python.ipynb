{
  "nbformat": 4,
  "nbformat_minor": 0,
  "metadata": {
    "colab": {
      "provenance": [],
      "authorship_tag": "ABX9TyPpTSuXTXrH1DxwOU34y3Y+",
      "include_colab_link": true
    },
    "kernelspec": {
      "name": "python3",
      "display_name": "Python 3"
    },
    "language_info": {
      "name": "python"
    }
  },
  "cells": [
    {
      "cell_type": "markdown",
      "metadata": {
        "id": "view-in-github",
        "colab_type": "text"
      },
      "source": [
        "<a href=\"https://colab.research.google.com/github/shimul1725/Next-Word-Prediction-Model-using-Python/blob/main/Next_Word_Prediction_Model_using_Python.ipynb\" target=\"_parent\"><img src=\"https://colab.research.google.com/assets/colab-badge.svg\" alt=\"Open In Colab\"/></a>"
      ]
    },
    {
      "cell_type": "code",
      "execution_count": 1,
      "metadata": {
        "id": "HLFtKKh0jJ_D"
      },
      "outputs": [],
      "source": [
        "import numpy as np\n",
        "import tensorflow as tf\n",
        "from tensorflow.keras.preprocessing.text import Tokenizer\n",
        "from tensorflow.keras.preprocessing.sequence import pad_sequences\n",
        "from tensorflow.keras.models import Sequential\n",
        "from tensorflow.keras.layers import Embedding, LSTM, Dense\n",
        "\n",
        "# Read the text file\n",
        "with open('sherlock-holm.es_stories_plain-text_advs.txt', 'r', encoding='utf-8') as file:\n",
        "    text = file.read()"
      ]
    },
    {
      "cell_type": "code",
      "source": [
        "#Now let’s tokenize the text to create a sequence of words:\n",
        "tokenizer = Tokenizer()\n",
        "tokenizer.fit_on_texts([text])\n",
        "total_words = len(tokenizer.word_index) + 1"
      ],
      "metadata": {
        "id": "IEQQ16aOjcJa"
      },
      "execution_count": 2,
      "outputs": []
    },
    {
      "cell_type": "code",
      "source": [
        "# let’s create input-output pairs by splitting the text into sequences of tokens and forming n-grams from the sequences:\n",
        "input_sequences = []\n",
        "for line in text.split('\\n'):\n",
        "    token_list = tokenizer.texts_to_sequences([line])[0]\n",
        "    for i in range(1, len(token_list)):\n",
        "        n_gram_sequence = token_list[:i+1]\n",
        "        input_sequences.append(n_gram_sequence)"
      ],
      "metadata": {
        "id": "NI9vvLeRjjCo"
      },
      "execution_count": 3,
      "outputs": []
    },
    {
      "cell_type": "code",
      "source": [
        "#Now let’s pad the input sequences to have equal length:\n",
        "max_sequence_len = max([len(seq) for seq in input_sequences])\n",
        "input_sequences = np.array(pad_sequences(input_sequences, maxlen=max_sequence_len, padding='pre'))"
      ],
      "metadata": {
        "id": "uzVnwJUOjrbo"
      },
      "execution_count": 4,
      "outputs": []
    },
    {
      "cell_type": "code",
      "source": [
        "#Now let’s split the sequences into input and output:\n",
        "X = input_sequences[:, :-1]\n",
        "y = input_sequences[:, -1]"
      ],
      "metadata": {
        "id": "a1mZ4ds9jzP3"
      },
      "execution_count": 5,
      "outputs": []
    },
    {
      "cell_type": "code",
      "source": [
        "#let’s convert the output to one-hot encode vectors:\n",
        "y = np.array(tf.keras.utils.to_categorical(y, num_classes=total_words))"
      ],
      "metadata": {
        "id": "qR4KX367j-Im"
      },
      "execution_count": 6,
      "outputs": []
    },
    {
      "cell_type": "code",
      "source": [
        "#Now let’s build a neural network architecture to train the model:\n",
        "model = Sequential()\n",
        "model.add(Embedding(total_words, 100, input_length=max_sequence_len-1))\n",
        "model.add(LSTM(150))\n",
        "model.add(Dense(total_words, activation='softmax'))\n",
        "print(model.summary())"
      ],
      "metadata": {
        "colab": {
          "base_uri": "https://localhost:8080/"
        },
        "id": "tHMRKPvYkNYX",
        "outputId": "cdc646b5-213e-42a7-9d5c-a9b4fab7ff6c"
      },
      "execution_count": 7,
      "outputs": [
        {
          "output_type": "stream",
          "name": "stdout",
          "text": [
            "Model: \"sequential\"\n",
            "_________________________________________________________________\n",
            " Layer (type)                Output Shape              Param #   \n",
            "=================================================================\n",
            " embedding (Embedding)       (None, 17, 100)           820000    \n",
            "                                                                 \n",
            " lstm (LSTM)                 (None, 150)               150600    \n",
            "                                                                 \n",
            " dense (Dense)               (None, 8200)              1238200   \n",
            "                                                                 \n",
            "=================================================================\n",
            "Total params: 2,208,800\n",
            "Trainable params: 2,208,800\n",
            "Non-trainable params: 0\n",
            "_________________________________________________________________\n",
            "None\n"
          ]
        }
      ]
    },
    {
      "cell_type": "code",
      "source": [
        "#Now let’s compile and train the model:\n",
        "model.compile(loss='categorical_crossentropy', optimizer='adam', metrics=['accuracy'])\n",
        "model.fit(X, y, epochs=100, verbose=1)"
      ],
      "metadata": {
        "colab": {
          "base_uri": "https://localhost:8080/"
        },
        "id": "6HgfRbFrkWaW",
        "outputId": "03134a96-d005-43d5-848d-e12ea32a2145"
      },
      "execution_count": 8,
      "outputs": [
        {
          "output_type": "stream",
          "name": "stdout",
          "text": [
            "Epoch 1/100\n",
            "3010/3010 [==============================] - 217s 71ms/step - loss: 6.2780 - accuracy: 0.0722\n",
            "Epoch 2/100\n",
            "3010/3010 [==============================] - 211s 70ms/step - loss: 5.5690 - accuracy: 0.1176\n",
            "Epoch 3/100\n",
            "3010/3010 [==============================] - 214s 71ms/step - loss: 5.1800 - accuracy: 0.1413\n",
            "Epoch 4/100\n",
            "3010/3010 [==============================] - 210s 70ms/step - loss: 4.8360 - accuracy: 0.1606\n",
            "Epoch 5/100\n",
            "3010/3010 [==============================] - 206s 68ms/step - loss: 4.5158 - accuracy: 0.1794\n",
            "Epoch 6/100\n",
            "3010/3010 [==============================] - 207s 69ms/step - loss: 4.2130 - accuracy: 0.2019\n",
            "Epoch 7/100\n",
            "3010/3010 [==============================] - 205s 68ms/step - loss: 3.9298 - accuracy: 0.2280\n",
            "Epoch 8/100\n",
            "3010/3010 [==============================] - 208s 69ms/step - loss: 3.6607 - accuracy: 0.2603\n",
            "Epoch 9/100\n",
            "3010/3010 [==============================] - 203s 68ms/step - loss: 3.4066 - accuracy: 0.2958\n",
            "Epoch 10/100\n",
            "3010/3010 [==============================] - 206s 68ms/step - loss: 3.1709 - accuracy: 0.3307\n",
            "Epoch 11/100\n",
            "3010/3010 [==============================] - 206s 68ms/step - loss: 2.9536 - accuracy: 0.3670\n",
            "Epoch 12/100\n",
            "3010/3010 [==============================] - 203s 67ms/step - loss: 2.7529 - accuracy: 0.4030\n",
            "Epoch 13/100\n",
            "3010/3010 [==============================] - 204s 68ms/step - loss: 2.5719 - accuracy: 0.4373\n",
            "Epoch 14/100\n",
            "3010/3010 [==============================] - 205s 68ms/step - loss: 2.4028 - accuracy: 0.4705\n",
            "Epoch 15/100\n",
            "3010/3010 [==============================] - 205s 68ms/step - loss: 2.2488 - accuracy: 0.5018\n",
            "Epoch 16/100\n",
            "3010/3010 [==============================] - 205s 68ms/step - loss: 2.1083 - accuracy: 0.5302\n",
            "Epoch 17/100\n",
            "3010/3010 [==============================] - 204s 68ms/step - loss: 1.9789 - accuracy: 0.5573\n",
            "Epoch 18/100\n",
            "3010/3010 [==============================] - 206s 68ms/step - loss: 1.8624 - accuracy: 0.5834\n",
            "Epoch 19/100\n",
            "3010/3010 [==============================] - 206s 68ms/step - loss: 1.7549 - accuracy: 0.6064\n",
            "Epoch 20/100\n",
            "3010/3010 [==============================] - 202s 67ms/step - loss: 1.6567 - accuracy: 0.6271\n",
            "Epoch 21/100\n",
            "3010/3010 [==============================] - 203s 67ms/step - loss: 1.5675 - accuracy: 0.6478\n",
            "Epoch 22/100\n",
            "3010/3010 [==============================] - 204s 68ms/step - loss: 1.4868 - accuracy: 0.6642\n",
            "Epoch 23/100\n",
            "3010/3010 [==============================] - 204s 68ms/step - loss: 1.4137 - accuracy: 0.6797\n",
            "Epoch 24/100\n",
            "3010/3010 [==============================] - 204s 68ms/step - loss: 1.3447 - accuracy: 0.6953\n",
            "Epoch 25/100\n",
            "3010/3010 [==============================] - 206s 69ms/step - loss: 1.2810 - accuracy: 0.7101\n",
            "Epoch 26/100\n",
            "3010/3010 [==============================] - 202s 67ms/step - loss: 1.2252 - accuracy: 0.7226\n",
            "Epoch 27/100\n",
            "3010/3010 [==============================] - 206s 68ms/step - loss: 1.1741 - accuracy: 0.7325\n",
            "Epoch 28/100\n",
            "3010/3010 [==============================] - 206s 68ms/step - loss: 1.1231 - accuracy: 0.7443\n",
            "Epoch 29/100\n",
            "3010/3010 [==============================] - 207s 69ms/step - loss: 1.0795 - accuracy: 0.7532\n",
            "Epoch 30/100\n",
            "3010/3010 [==============================] - 201s 67ms/step - loss: 1.0376 - accuracy: 0.7627\n",
            "Epoch 31/100\n",
            "3010/3010 [==============================] - 200s 66ms/step - loss: 1.0013 - accuracy: 0.7700\n",
            "Epoch 32/100\n",
            "3010/3010 [==============================] - 208s 69ms/step - loss: 0.9663 - accuracy: 0.7777\n",
            "Epoch 33/100\n",
            "3010/3010 [==============================] - 202s 67ms/step - loss: 0.9342 - accuracy: 0.7846\n",
            "Epoch 34/100\n",
            "3010/3010 [==============================] - 209s 70ms/step - loss: 0.9060 - accuracy: 0.7908\n",
            "Epoch 35/100\n",
            "3010/3010 [==============================] - 209s 69ms/step - loss: 0.8778 - accuracy: 0.7972\n",
            "Epoch 36/100\n",
            "3010/3010 [==============================] - 211s 70ms/step - loss: 0.8540 - accuracy: 0.8019\n",
            "Epoch 37/100\n",
            "3010/3010 [==============================] - 192s 64ms/step - loss: 0.8307 - accuracy: 0.8067\n",
            "Epoch 38/100\n",
            "3010/3010 [==============================] - 195s 65ms/step - loss: 0.8094 - accuracy: 0.8122\n",
            "Epoch 39/100\n",
            "3010/3010 [==============================] - 202s 67ms/step - loss: 0.7899 - accuracy: 0.8154\n",
            "Epoch 40/100\n",
            "3010/3010 [==============================] - 203s 68ms/step - loss: 0.7705 - accuracy: 0.8191\n",
            "Epoch 41/100\n",
            "3010/3010 [==============================] - 202s 67ms/step - loss: 0.7558 - accuracy: 0.8224\n",
            "Epoch 42/100\n",
            "3010/3010 [==============================] - 204s 68ms/step - loss: 0.7407 - accuracy: 0.8257\n",
            "Epoch 43/100\n",
            "3010/3010 [==============================] - 199s 66ms/step - loss: 0.7227 - accuracy: 0.8296\n",
            "Epoch 44/100\n",
            "3010/3010 [==============================] - 207s 69ms/step - loss: 0.7108 - accuracy: 0.8310\n",
            "Epoch 45/100\n",
            "3010/3010 [==============================] - 206s 68ms/step - loss: 0.7001 - accuracy: 0.8338\n",
            "Epoch 46/100\n",
            "3010/3010 [==============================] - 205s 68ms/step - loss: 0.6849 - accuracy: 0.8375\n",
            "Epoch 47/100\n",
            "3010/3010 [==============================] - 202s 67ms/step - loss: 0.6728 - accuracy: 0.8402\n",
            "Epoch 48/100\n",
            "3010/3010 [==============================] - 201s 67ms/step - loss: 0.6635 - accuracy: 0.8416\n",
            "Epoch 49/100\n",
            "3010/3010 [==============================] - 204s 68ms/step - loss: 0.6544 - accuracy: 0.8435\n",
            "Epoch 50/100\n",
            "3010/3010 [==============================] - 202s 67ms/step - loss: 0.6471 - accuracy: 0.8438\n",
            "Epoch 51/100\n",
            "3010/3010 [==============================] - 207s 69ms/step - loss: 0.6409 - accuracy: 0.8455\n",
            "Epoch 52/100\n",
            "3010/3010 [==============================] - 202s 67ms/step - loss: 0.6293 - accuracy: 0.8474\n",
            "Epoch 53/100\n",
            "3010/3010 [==============================] - 203s 67ms/step - loss: 0.6256 - accuracy: 0.8471\n",
            "Epoch 54/100\n",
            "3010/3010 [==============================] - 205s 68ms/step - loss: 0.6161 - accuracy: 0.8504\n",
            "Epoch 55/100\n",
            "3010/3010 [==============================] - 199s 66ms/step - loss: 0.6102 - accuracy: 0.8516\n",
            "Epoch 56/100\n",
            "3010/3010 [==============================] - 202s 67ms/step - loss: 0.6032 - accuracy: 0.8521\n",
            "Epoch 57/100\n",
            "3010/3010 [==============================] - 200s 66ms/step - loss: 0.6011 - accuracy: 0.8518\n",
            "Epoch 58/100\n",
            "3010/3010 [==============================] - 201s 67ms/step - loss: 0.5936 - accuracy: 0.8559\n",
            "Epoch 59/100\n",
            "3010/3010 [==============================] - 204s 68ms/step - loss: 0.5901 - accuracy: 0.8545\n",
            "Epoch 60/100\n",
            "3010/3010 [==============================] - 206s 68ms/step - loss: 0.5883 - accuracy: 0.8536\n",
            "Epoch 61/100\n",
            "3010/3010 [==============================] - 201s 67ms/step - loss: 0.5810 - accuracy: 0.8556\n",
            "Epoch 62/100\n",
            "3010/3010 [==============================] - 199s 66ms/step - loss: 0.5779 - accuracy: 0.8568\n",
            "Epoch 63/100\n",
            "3010/3010 [==============================] - 204s 68ms/step - loss: 0.5691 - accuracy: 0.8587\n",
            "Epoch 64/100\n",
            "3010/3010 [==============================] - 203s 68ms/step - loss: 0.5700 - accuracy: 0.8582\n",
            "Epoch 65/100\n",
            "3010/3010 [==============================] - 196s 65ms/step - loss: 0.5677 - accuracy: 0.8589\n",
            "Epoch 66/100\n",
            "3010/3010 [==============================] - 198s 66ms/step - loss: 0.5645 - accuracy: 0.8591\n",
            "Epoch 67/100\n",
            "3010/3010 [==============================] - 206s 68ms/step - loss: 0.5622 - accuracy: 0.8589\n",
            "Epoch 68/100\n",
            "3010/3010 [==============================] - 206s 68ms/step - loss: 0.5577 - accuracy: 0.8601\n",
            "Epoch 69/100\n",
            "3010/3010 [==============================] - 197s 66ms/step - loss: 0.5565 - accuracy: 0.8588\n",
            "Epoch 70/100\n",
            "3010/3010 [==============================] - 196s 65ms/step - loss: 0.5541 - accuracy: 0.8606\n",
            "Epoch 71/100\n",
            "3010/3010 [==============================] - 196s 65ms/step - loss: 0.5513 - accuracy: 0.8601\n",
            "Epoch 72/100\n",
            "3010/3010 [==============================] - 206s 69ms/step - loss: 0.5481 - accuracy: 0.8598\n",
            "Epoch 73/100\n",
            "3010/3010 [==============================] - 199s 66ms/step - loss: 0.5463 - accuracy: 0.8615\n",
            "Epoch 74/100\n",
            "3010/3010 [==============================] - 196s 65ms/step - loss: 0.5426 - accuracy: 0.8629\n",
            "Epoch 75/100\n",
            "3010/3010 [==============================] - 195s 65ms/step - loss: 0.5462 - accuracy: 0.8601\n",
            "Epoch 76/100\n",
            "3010/3010 [==============================] - 203s 68ms/step - loss: 0.5396 - accuracy: 0.8617\n",
            "Epoch 77/100\n",
            "3010/3010 [==============================] - 194s 65ms/step - loss: 0.5384 - accuracy: 0.8628\n",
            "Epoch 78/100\n",
            "3010/3010 [==============================] - 196s 65ms/step - loss: 0.5349 - accuracy: 0.8628\n",
            "Epoch 79/100\n",
            "3010/3010 [==============================] - 199s 66ms/step - loss: 0.5328 - accuracy: 0.8625\n",
            "Epoch 80/100\n",
            "3010/3010 [==============================] - 198s 66ms/step - loss: 0.5389 - accuracy: 0.8609\n",
            "Epoch 81/100\n",
            "3010/3010 [==============================] - 199s 66ms/step - loss: 0.5312 - accuracy: 0.8630\n",
            "Epoch 82/100\n",
            "3010/3010 [==============================] - 205s 68ms/step - loss: 0.5269 - accuracy: 0.8650\n",
            "Epoch 83/100\n",
            "3010/3010 [==============================] - 204s 68ms/step - loss: 0.5314 - accuracy: 0.8621\n",
            "Epoch 84/100\n",
            "3010/3010 [==============================] - 199s 66ms/step - loss: 0.5238 - accuracy: 0.8647\n",
            "Epoch 85/100\n",
            "3010/3010 [==============================] - 202s 67ms/step - loss: 0.5249 - accuracy: 0.8641\n",
            "Epoch 86/100\n",
            "3010/3010 [==============================] - 211s 70ms/step - loss: 0.5288 - accuracy: 0.8636\n",
            "Epoch 87/100\n",
            "3010/3010 [==============================] - 202s 67ms/step - loss: 0.5258 - accuracy: 0.8640\n",
            "Epoch 88/100\n",
            "3010/3010 [==============================] - 196s 65ms/step - loss: 0.5227 - accuracy: 0.8639\n",
            "Epoch 89/100\n",
            "3010/3010 [==============================] - 197s 66ms/step - loss: 0.5229 - accuracy: 0.8627\n",
            "Epoch 90/100\n",
            "3010/3010 [==============================] - 198s 66ms/step - loss: 0.5258 - accuracy: 0.8620\n",
            "Epoch 91/100\n",
            "3010/3010 [==============================] - 211s 70ms/step - loss: 0.5222 - accuracy: 0.8634\n",
            "Epoch 92/100\n",
            "3010/3010 [==============================] - 199s 66ms/step - loss: 0.5160 - accuracy: 0.8654\n",
            "Epoch 93/100\n",
            "3010/3010 [==============================] - 206s 69ms/step - loss: 0.5234 - accuracy: 0.8622\n",
            "Epoch 94/100\n",
            "3010/3010 [==============================] - 206s 69ms/step - loss: 0.5182 - accuracy: 0.8645\n",
            "Epoch 95/100\n",
            "3010/3010 [==============================] - 208s 69ms/step - loss: 0.5160 - accuracy: 0.8652\n",
            "Epoch 96/100\n",
            "3010/3010 [==============================] - 205s 68ms/step - loss: 0.5160 - accuracy: 0.8649\n",
            "Epoch 97/100\n",
            "3010/3010 [==============================] - 210s 70ms/step - loss: 0.5231 - accuracy: 0.8628\n",
            "Epoch 98/100\n",
            "3010/3010 [==============================] - 210s 70ms/step - loss: 0.5205 - accuracy: 0.8627\n",
            "Epoch 99/100\n",
            "3010/3010 [==============================] - 207s 69ms/step - loss: 0.5158 - accuracy: 0.8644\n",
            "Epoch 100/100\n",
            "3010/3010 [==============================] - 210s 70ms/step - loss: 0.5160 - accuracy: 0.8643\n"
          ]
        },
        {
          "output_type": "execute_result",
          "data": {
            "text/plain": [
              "<keras.callbacks.History at 0x7ee6f7e3fb20>"
            ]
          },
          "metadata": {},
          "execution_count": 8
        }
      ]
    },
    {
      "cell_type": "code",
      "source": [
        "seed_text = \"I will leave if they\"\n",
        "next_words = 3\n",
        "\n",
        "for _ in range(next_words):\n",
        "    token_list = tokenizer.texts_to_sequences([seed_text])[0]\n",
        "    token_list = pad_sequences([token_list], maxlen=max_sequence_len-1, padding='pre')\n",
        "    predicted = np.argmax(model.predict(token_list), axis=-1)\n",
        "    output_word = \"\"\n",
        "    for word, index in tokenizer.word_index.items():\n",
        "        if index == predicted:\n",
        "            output_word = word\n",
        "            break\n",
        "    seed_text += \" \" + output_word\n",
        "\n",
        "print(seed_text)"
      ],
      "metadata": {
        "colab": {
          "base_uri": "https://localhost:8080/"
        },
        "id": "usOxvNOg6439",
        "outputId": "f31b58e2-e80d-48a7-8df2-a2b59bbebde8"
      },
      "execution_count": 9,
      "outputs": [
        {
          "output_type": "stream",
          "name": "stdout",
          "text": [
            "1/1 [==============================] - 1s 606ms/step\n",
            "1/1 [==============================] - 0s 23ms/step\n",
            "1/1 [==============================] - 0s 24ms/step\n",
            "I will leave if they are young mr\n"
          ]
        }
      ]
    }
  ]
}